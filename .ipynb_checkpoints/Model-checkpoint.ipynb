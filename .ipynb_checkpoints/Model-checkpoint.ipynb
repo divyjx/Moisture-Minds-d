{
 "cells": [
  {
   "cell_type": "code",
   "execution_count": 1,
   "id": "cfa66b42",
   "metadata": {},
   "outputs": [],
   "source": [
    "import pandas as pd\n",
    "import numpy as np\n",
    "import matplotlib.pyplot as plt\n",
    "import seaborn as sns\n",
    "%matplotlib inline"
   ]
  },
  {
   "cell_type": "code",
   "execution_count": 2,
   "id": "4e99c0b3",
   "metadata": {},
   "outputs": [],
   "source": [
    "df_1 = pd.read_csv('user1_data.csv')\n",
    "df_2 = pd.read_csv('user2_data.csv')"
   ]
  },
  {
   "cell_type": "code",
   "execution_count": 3,
   "id": "99d3d5ea",
   "metadata": {},
   "outputs": [
    {
     "name": "stdout",
     "output_type": "stream",
     "text": [
      "<class 'pandas.core.frame.DataFrame'>\n",
      "RangeIndex: 19341 entries, 0 to 19340\n",
      "Data columns (total 8 columns):\n",
      " #   Column  Non-Null Count  Dtype  \n",
      "---  ------  --------------  -----  \n",
      " 0   ttime   19341 non-null  object \n",
      " 1   pm1     19341 non-null  float64\n",
      " 2   pm2     19341 non-null  float64\n",
      " 3   pm3     19341 non-null  float64\n",
      " 4   am      19341 non-null  float64\n",
      " 5   sm      19341 non-null  float64\n",
      " 6   st      19341 non-null  float64\n",
      " 7   lum     19341 non-null  float64\n",
      "dtypes: float64(7), object(1)\n",
      "memory usage: 1.2+ MB\n"
     ]
    }
   ],
   "source": [
    "df_1.info()"
   ]
  },
  {
   "cell_type": "code",
   "execution_count": 4,
   "id": "8700d630",
   "metadata": {
    "scrolled": true
   },
   "outputs": [
    {
     "name": "stdout",
     "output_type": "stream",
     "text": [
      "<class 'pandas.core.frame.DataFrame'>\n",
      "RangeIndex: 20166 entries, 0 to 20165\n",
      "Data columns (total 10 columns):\n",
      " #   Column  Non-Null Count  Dtype  \n",
      "---  ------  --------------  -----  \n",
      " 0   ttime   20166 non-null  object \n",
      " 1   pm1     20166 non-null  float64\n",
      " 2   pm2     20166 non-null  float64\n",
      " 3   pm3     20166 non-null  float64\n",
      " 4   am      20166 non-null  float64\n",
      " 5   sm      20166 non-null  float64\n",
      " 6   lum     20166 non-null  float64\n",
      " 7   temp    20166 non-null  float64\n",
      " 8   humd    20166 non-null  float64\n",
      " 9   pres    20166 non-null  float64\n",
      "dtypes: float64(9), object(1)\n",
      "memory usage: 1.5+ MB\n"
     ]
    }
   ],
   "source": [
    "df_2.info()"
   ]
  },
  {
   "cell_type": "code",
   "execution_count": 5,
   "id": "1dad4aca",
   "metadata": {},
   "outputs": [
    {
     "data": {
      "text/plain": [
       "<AxesSubplot: >"
      ]
     },
     "execution_count": 5,
     "metadata": {},
     "output_type": "execute_result"
    },
    {
     "data": {
      "image/png": "[encoded data removed]",
      "text/plain": [
       "<Figure size 640x480 with 2 Axes>"
      ]
     },
     "metadata": {},
     "output_type": "display_data"
    }
   ],
   "source": [
    "sns.heatmap(df_1.corr())"
   ]
  },
  {
   "cell_type": "code",
   "execution_count": 6,
   "id": "b08abc6f",
   "metadata": {},
   "outputs": [
    {
     "data": {
      "text/html": [
       "<div>\n",
       "<style scoped>\n",
       "    .dataframe tbody tr th:only-of-type {\n",
       "        vertical-align: middle;\n",
       "    }\n",
       "\n",
       "    .dataframe tbody tr th {\n",
       "        vertical-align: top;\n",
       "    }\n",
       "\n",
       "    .dataframe thead th {\n",
       "        text-align: right;\n",
       "    }\n",
       "</style>\n",
       "<table border=\"1\" class=\"dataframe\">\n",
       "  <thead>\n",
       "    <tr style=\"text-align: right;\">\n",
       "      <th></th>\n",
       "      <th>ttime</th>\n",
       "      <th>pm1</th>\n",
       "      <th>pm2</th>\n",
       "      <th>pm3</th>\n",
       "      <th>am</th>\n",
       "      <th>sm</th>\n",
       "      <th>st</th>\n",
       "      <th>lum</th>\n",
       "    </tr>\n",
       "  </thead>\n",
       "  <tbody>\n",
       "    <tr>\n",
       "      <th>0</th>\n",
       "      <td>2022-07-18 15:42:55</td>\n",
       "      <td>3.63</td>\n",
       "      <td>0.0</td>\n",
       "      <td>0.0</td>\n",
       "      <td>3.2</td>\n",
       "      <td>7813.0</td>\n",
       "      <td>25.65</td>\n",
       "      <td>15001.0</td>\n",
       "    </tr>\n",
       "    <tr>\n",
       "      <th>1</th>\n",
       "      <td>2022-07-18 15:47:55</td>\n",
       "      <td>4.19</td>\n",
       "      <td>0.0</td>\n",
       "      <td>0.0</td>\n",
       "      <td>4.8</td>\n",
       "      <td>7692.0</td>\n",
       "      <td>25.66</td>\n",
       "      <td>13863.0</td>\n",
       "    </tr>\n",
       "    <tr>\n",
       "      <th>2</th>\n",
       "      <td>2022-07-18 15:52:55</td>\n",
       "      <td>4.74</td>\n",
       "      <td>0.0</td>\n",
       "      <td>0.0</td>\n",
       "      <td>4.0</td>\n",
       "      <td>7813.0</td>\n",
       "      <td>25.67</td>\n",
       "      <td>13788.0</td>\n",
       "    </tr>\n",
       "    <tr>\n",
       "      <th>3</th>\n",
       "      <td>2022-07-18 15:57:55</td>\n",
       "      <td>5.30</td>\n",
       "      <td>0.0</td>\n",
       "      <td>0.0</td>\n",
       "      <td>4.8</td>\n",
       "      <td>7813.0</td>\n",
       "      <td>25.68</td>\n",
       "      <td>14383.0</td>\n",
       "    </tr>\n",
       "    <tr>\n",
       "      <th>4</th>\n",
       "      <td>2022-07-18 16:02:55</td>\n",
       "      <td>0.55</td>\n",
       "      <td>5.3</td>\n",
       "      <td>5.3</td>\n",
       "      <td>3.2</td>\n",
       "      <td>7813.0</td>\n",
       "      <td>25.69</td>\n",
       "      <td>14621.0</td>\n",
       "    </tr>\n",
       "  </tbody>\n",
       "</table>\n",
       "</div>"
      ],
      "text/plain": [
       "                 ttime   pm1  pm2  pm3   am      sm     st      lum\n",
       "0  2022-07-18 15:42:55  3.63  0.0  0.0  3.2  7813.0  25.65  15001.0\n",
       "1  2022-07-18 15:47:55  4.19  0.0  0.0  4.8  7692.0  25.66  13863.0\n",
       "2  2022-07-18 15:52:55  4.74  0.0  0.0  4.0  7813.0  25.67  13788.0\n",
       "3  2022-07-18 15:57:55  5.30  0.0  0.0  4.8  7813.0  25.68  14383.0\n",
       "4  2022-07-18 16:02:55  0.55  5.3  5.3  3.2  7813.0  25.69  14621.0"
      ]
     },
     "execution_count": 6,
     "metadata": {},
     "output_type": "execute_result"
    }
   ],
   "source": [
    "df_1.head()"
   ]
  },
  {
   "cell_type": "code",
   "execution_count": 7,
   "id": "1fbe12b0",
   "metadata": {},
   "outputs": [],
   "source": [
    "df_1['Month']=[x.split()[0].split('-')[1] for x in df_1['ttime']]\n",
    "df_2['Month']=[x.split()[0].split('-')[1] for x in df_2['ttime']]\n"
   ]
  },
  {
   "cell_type": "code",
   "execution_count": 345,
   "id": "52697035",
   "metadata": {
    "scrolled": false
   },
   "outputs": [],
   "source": [
    "## plots\n",
    "# sns.scatterplot(df_2['sm'])\n",
    "# sns.scatterplot(df_1['sm'])"
   ]
  },
  {
   "cell_type": "code",
   "execution_count": 349,
   "id": "24ddb513",
   "metadata": {},
   "outputs": [
    {
     "data": {
      "text/plain": [
       "Index(['pm1', 'pm2', 'pm3', 'am', 'sm', 'st', 'lum'], dtype='object')"
      ]
     },
     "execution_count": 349,
     "metadata": {},
     "output_type": "execute_result"
    }
   ],
   "source": [
    "# df_1.drop('ttime',axis=1,inplace=True)\n",
    "df_1.columns"
   ]
  },
  {
   "cell_type": "code",
   "execution_count": 350,
   "id": "cb103406",
   "metadata": {},
   "outputs": [],
   "source": [
    "X = df_1.drop('sm',axis=1)\n",
    "y = df_1[\"sm\"]"
   ]
  },
  {
   "cell_type": "code",
   "execution_count": 351,
   "id": "4dbbada7",
   "metadata": {},
   "outputs": [
    {
     "name": "stdout",
     "output_type": "stream",
     "text": [
      "Mean Absolute Error: 1746.1936176175564\n",
      "Root Mean Squared Error: 1931.6974186003265\n"
     ]
    }
   ],
   "source": [
    "# Linear Regression\n",
    "from sklearn.model_selection import train_test_split\n",
    "X_train, X_test, y_train, y_test = train_test_split(X, y, test_size=0.3, random_state=101)\n",
    "# from sklearn.linear_model import LinearRegression\n",
    "lm = LinearRegression()\n",
    "lm.fit(X_train,y_train)\n",
    "predictions = lm.predict(X_test)\n",
    "\n",
    "## Plots\n",
    "# plt.scatter(y_test,predictions)\n",
    "\n",
    "#  Evaluation Metrics\n",
    "from sklearn import metrics\n",
    "print('Mean Absolute Error:', metrics.mean_absolute_error(y_test, predictions))\n",
    "print('Root Mean Squared Error:', np.sqrt(metrics.mean_squared_error(y_test, predictions)))\n"
   ]
  },
  {
   "cell_type": "code",
   "execution_count": 354,
   "id": "d4f8ca18",
   "metadata": {},
   "outputs": [],
   "source": [
    "## convert datetime from object to datetime type\n",
    "# df_1['ttime'] = pd.to_datetime(df_1['ttime'])\n",
    "\n",
    "# df_1 = df_1.set_index(df_1.ttime)\n",
    "# df_1.drop('ttime', axis=1, inplace=True)\n",
    "\n",
    "## create hour, day and month variables from datetime index\n",
    "# df_1['hour'] = df_1.index.hour\n",
    "# df_1['day'] = df_1.index.day\n",
    "# df_1['month'] = df_1.index.month"
   ]
  },
  {
   "cell_type": "code",
   "execution_count": 355,
   "id": "da840afb",
   "metadata": {},
   "outputs": [
    {
     "data": {
      "text/html": [
       "<div>\n",
       "<style scoped>\n",
       "    .dataframe tbody tr th:only-of-type {\n",
       "        vertical-align: middle;\n",
       "    }\n",
       "\n",
       "    .dataframe tbody tr th {\n",
       "        vertical-align: top;\n",
       "    }\n",
       "\n",
       "    .dataframe thead th {\n",
       "        text-align: right;\n",
       "    }\n",
       "</style>\n",
       "<table border=\"1\" class=\"dataframe\">\n",
       "  <thead>\n",
       "    <tr style=\"text-align: right;\">\n",
       "      <th></th>\n",
       "      <th>pm1</th>\n",
       "      <th>pm2</th>\n",
       "      <th>pm3</th>\n",
       "      <th>am</th>\n",
       "      <th>sm</th>\n",
       "      <th>st</th>\n",
       "      <th>lum</th>\n",
       "    </tr>\n",
       "  </thead>\n",
       "  <tbody>\n",
       "    <tr>\n",
       "      <th>0</th>\n",
       "      <td>3.63</td>\n",
       "      <td>0.0</td>\n",
       "      <td>0.0</td>\n",
       "      <td>3.2</td>\n",
       "      <td>7813.0</td>\n",
       "      <td>25.65</td>\n",
       "      <td>15001.0</td>\n",
       "    </tr>\n",
       "    <tr>\n",
       "      <th>1</th>\n",
       "      <td>4.19</td>\n",
       "      <td>0.0</td>\n",
       "      <td>0.0</td>\n",
       "      <td>4.8</td>\n",
       "      <td>7692.0</td>\n",
       "      <td>25.66</td>\n",
       "      <td>13863.0</td>\n",
       "    </tr>\n",
       "    <tr>\n",
       "      <th>2</th>\n",
       "      <td>4.74</td>\n",
       "      <td>0.0</td>\n",
       "      <td>0.0</td>\n",
       "      <td>4.0</td>\n",
       "      <td>7813.0</td>\n",
       "      <td>25.67</td>\n",
       "      <td>13788.0</td>\n",
       "    </tr>\n",
       "    <tr>\n",
       "      <th>3</th>\n",
       "      <td>5.30</td>\n",
       "      <td>0.0</td>\n",
       "      <td>0.0</td>\n",
       "      <td>4.8</td>\n",
       "      <td>7813.0</td>\n",
       "      <td>25.68</td>\n",
       "      <td>14383.0</td>\n",
       "    </tr>\n",
       "    <tr>\n",
       "      <th>4</th>\n",
       "      <td>0.55</td>\n",
       "      <td>5.3</td>\n",
       "      <td>5.3</td>\n",
       "      <td>3.2</td>\n",
       "      <td>7813.0</td>\n",
       "      <td>25.69</td>\n",
       "      <td>14621.0</td>\n",
       "    </tr>\n",
       "  </tbody>\n",
       "</table>\n",
       "</div>"
      ],
      "text/plain": [
       "    pm1  pm2  pm3   am      sm     st      lum\n",
       "0  3.63  0.0  0.0  3.2  7813.0  25.65  15001.0\n",
       "1  4.19  0.0  0.0  4.8  7692.0  25.66  13863.0\n",
       "2  4.74  0.0  0.0  4.0  7813.0  25.67  13788.0\n",
       "3  5.30  0.0  0.0  4.8  7813.0  25.68  14383.0\n",
       "4  0.55  5.3  5.3  3.2  7813.0  25.69  14621.0"
      ]
     },
     "execution_count": 355,
     "metadata": {},
     "output_type": "execute_result"
    }
   ],
   "source": [
    "df_1.head()"
   ]
  },
  {
   "cell_type": "code",
   "execution_count": 356,
   "id": "a6a1a2c4",
   "metadata": {},
   "outputs": [
    {
     "name": "stdout",
     "output_type": "stream",
     "text": [
      "Mean Absolute Error: 12.180156944162222\n",
      "Mean Squared Error: 15.210097486008056\n"
     ]
    }
   ],
   "source": [
    "# LGBM Regressor\n",
    "\n",
    "from lightgbm import LGBMRegressor\n",
    "\n",
    "horizon = 25\n",
    "\n",
    "X = df_1.drop('sm', axis=1)\n",
    "y = df_1['sm']\n",
    "    \n",
    "X_train, X_test = X.iloc[:-horizon,:], X.iloc[-horizon:,:]\n",
    "y_train, y_test = y.iloc[:-horizon], y.iloc[-horizon:]\n",
    "\n",
    "\n",
    "model = LGBMRegressor(random_state=42)\n",
    "model.fit(X_train,y_train)\n",
    "predictions=model.predict(X_test)\n",
    "\n",
    "print('Mean Absolute Error:', metrics.mean_absolute_error(y_test, predictions))\n",
    "print('Mean Squared Error:', metrics.mean_squared_error(y_test, predictions,squared=False))"
   ]
  },
  {
   "cell_type": "code",
   "execution_count": 357,
   "id": "1ab2f655",
   "metadata": {},
   "outputs": [
    {
     "name": "stdout",
     "output_type": "stream",
     "text": [
      "Mean Absolute Error: 1414.0793595542036\n",
      "Mean Squared Error: 1425.5525297354152\n"
     ]
    }
   ],
   "source": [
    "## PLSRegression\n",
    "\n",
    "from sklearn.cross_decomposition import PLSRegression \n",
    "model = PLSRegression(n_components=4)\n",
    "\n",
    "horizon = 25\n",
    "\n",
    "X = df_1.drop('sm', axis=1)\n",
    "y = df_1['sm']\n",
    "    \n",
    "X_train, X_test = X.iloc[:-horizon,:], X.iloc[-horizon:,:]\n",
    "y_train, y_test = y.iloc[:-horizon], y.iloc[-horizon:]\n",
    "\n",
    "model.fit(X_train,y_train)\n",
    "predictions=pls.predict(X_test)\n",
    "\n",
    "print('Mean Absolute Error:', metrics.mean_absolute_error(y_test, predictions))\n",
    "print('Mean Squared Error:', metrics.mean_squared_error(y_test, predictions,squared=False))"
   ]
  },
  {
   "cell_type": "code",
   "execution_count": 7,
   "id": "ec5f9745",
   "metadata": {
    "scrolled": true
   },
   "outputs": [
    {
     "name": "stdout",
     "output_type": "stream",
     "text": [
      "Mean Absolute Error: 376.78673228700154\n",
      "Mean Squared Error: 624.4339676016548\n"
     ]
    }
   ],
   "source": [
    "# Random Forest\n",
    "\n",
    "from sklearn.model_selection import train_test_split\n",
    "\n",
    "\n",
    "X = df_1.drop(['sm','ttime'], axis=1)\n",
    "y = df_1['sm']\n",
    "\n",
    "X_train, X_test, y_train, y_test = train_test_split(X, y, test_size=0.30, random_state=101)\n",
    "\n",
    "from sklearn.ensemble import RandomForestRegressor\n",
    "from sklearn import metrics\n",
    "\n",
    "model = RandomForestRegressor(max_depth=2, random_state=0)\n",
    "model.fit(X, y)\n",
    "predictions = model.predict(X_test)\n",
    "\n",
    "print('Mean Absolute Error:', metrics.mean_absolute_error(y_test, predictions))\n",
    "print('Mean Squared Error:', metrics.mean_squared_error(y_test, predictions,squared=False))\n"
   ]
  },
  {
   "cell_type": "code",
   "execution_count": 10,
   "id": "44763b66",
   "metadata": {},
   "outputs": [],
   "source": [
    "# from IPython.display import Image  \n",
    "# import six\n",
    "# import sys\n",
    "# sys.modules['sklearn.externals.six'] = six\n",
    "# from sklearn.externals.six import StringIO  \n",
    "# from sklearn.tree import export_graphviz\n",
    "# import pydot \n",
    "\n",
    "# features = list(X.columns[:])\n",
    "# dot_data = StringIO()  \n",
    "# export_graphviz(dtree, out_file=dot_data,feature_names=features,filled=True,rounded=True)\n",
    "\n",
    "# graph = pydot.graph_from_dot_data(dot_data.getvalue())  \n",
    "# Image(graph[0].create_png())  "
   ]
  },
  {
   "cell_type": "code",
   "execution_count": null,
   "id": "87fa78d1",
   "metadata": {},
   "outputs": [],
   "source": []
  }
 ],
 "metadata": {
  "kernelspec": {
   "display_name": "Python 3 (ipykernel)",
   "language": "python",
   "name": "python3"
  },
  "language_info": {
   "codemirror_mode": {
    "name": "ipython",
    "version": 3
   },
   "file_extension": ".py",
   "mimetype": "text/x-python",
   "name": "python",
   "nbconvert_exporter": "python",
   "pygments_lexer": "ipython3",
   "version": "3.9.13"
  }
 },
 "nbformat": 4,
 "nbformat_minor": 5
}
